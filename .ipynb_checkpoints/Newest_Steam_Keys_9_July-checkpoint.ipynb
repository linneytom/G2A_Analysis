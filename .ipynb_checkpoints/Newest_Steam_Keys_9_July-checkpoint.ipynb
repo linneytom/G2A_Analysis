{
 "cells": [
  {
   "cell_type": "code",
   "execution_count": 6,
   "metadata": {},
   "outputs": [],
   "source": [
    "import pandas as pd\n",
    "import numpy as np\n",
    "import requests\n",
    "from bs4 import BeautifulSoup\n",
    "from selenium import webdriver\n",
    "from selenium.webdriver.chrome.options import Options\n",
    "from tqdm import tqdm_notebook\n",
    "import time"
   ]
  },
  {
   "cell_type": "markdown",
   "metadata": {},
   "source": [
    "Only want seller info but getting it through game iterations. For every game find seller and get their rating history. If seller already in database skip game. Keep going untill all games on market have seller information collected."
   ]
  },
  {
   "cell_type": "markdown",
   "metadata": {},
   "source": [
    "Becuase of cookie prompts making scraping very slow with selenium I scrape the first 100 pages for links to games. I will then use selnium on all these links on the same chrome iteration. Hopefully bipassing the cookie prompts."
   ]
  },
  {
   "cell_type": "code",
   "execution_count": 7,
   "metadata": {},
   "outputs": [],
   "source": [
    "def get_soup(url):\n",
    "    '''\n",
    "    gets a soup from the www.g2a.com website\n",
    "    '''\n",
    "    header={'user-agent': 'Mozilla/5.0 (Macintosh; Intel Mac OS X 10_14_5) AppleWebKit/537.36 (KHTML, like Gecko) Chrome/75.0.3770.100 Safari/537.36',\n",
    "           'referer':'https://www.g2a.com/en/category/games-c189?sort=newest-first&drm%5B5%5D=1',\n",
    "           'authority':'www.g2a.com',\n",
    "           'method':'GET',\n",
    "           'path':'/en/',\n",
    "           'scheme':'https',\n",
    "           'accept':'text/html,application/xhtml+xml,application/xml;q=0.9,image/webp,image/apng,*/*;q=0.8,application/signed-exchange;v=b3',\n",
    "           'accept-encoding':'gzip, deflate, br',\n",
    "           'accept-language':'en-GB,en-US;q=0.9,en;q=0.8'}\n",
    "    r = requests.get(url, headers=header)\n",
    "    soup = BeautifulSoup(r.text)\n",
    "    return soup\n",
    "\n",
    "def find_games(soup):\n",
    "    '''\n",
    "    finds all games on page\n",
    "    returns list\n",
    "    '''\n",
    "    games=soup.find('ul', class_='products-grid').findAll('li', class_='products-grid__item')\n",
    "    return games\n",
    "\n",
    "def get_game_url(game):\n",
    "    '''\n",
    "    from the game_card soup\n",
    "    gets the url of the game\n",
    "    returns full url\n",
    "    '''\n",
    "    url_start='https://www.g2a.com'\n",
    "    url_end=game.find('h3', class_='Card__title').find('a')['href']\n",
    "    return url_start+url_end\n",
    "\n",
    "def collect_game_urls(pages):\n",
    "    game_urls=[]\n",
    "    for page in tqdm_notebook(range(pages)):\n",
    "        if page == 0:\n",
    "            url=f'https://www.g2a.com/category/games-c189?drm%5B5%5D=1'\n",
    "        else:\n",
    "            url=f'https://www.g2a.com/category/games-c189?drm%5B5%5D=1&page={page+1}'\n",
    "        game_locals=find_games(get_soup(url))\n",
    "        page_game_urls=[get_game_url(game) for game in game_locals]\n",
    "        game_urls.extend(page_game_urls)\n",
    "    \n",
    "    return game_urls"
   ]
  },
  {
   "cell_type": "code",
   "execution_count": 8,
   "metadata": {},
   "outputs": [
    {
     "data": {
      "application/vnd.jupyter.widget-view+json": {
       "model_id": "c698b4dcceac494c8ed4f9dab7c48e21",
       "version_major": 2,
       "version_minor": 0
      },
      "text/plain": [
       "HBox(children=(IntProgress(value=0, max=1), HTML(value='')))"
      ]
     },
     "metadata": {},
     "output_type": "display_data"
    }
   ],
   "source": [
    "game_urls=collect_game_urls(1)"
   ]
  },
  {
   "cell_type": "code",
   "execution_count": 9,
   "metadata": {},
   "outputs": [],
   "source": [
    "def get_seller_history(game_urls, length):\n",
    "    '''\n",
    "    with game_url opens remote chrome\n",
    "    bypasses cookie prompt\n",
    "    clicks on seller history\n",
    "    collects seller history soup for bs4 data collection\n",
    "    returns soup\n",
    "    '''\n",
    "    \n",
    "    options=Options()\n",
    "    options.add_argument('user=agent=Mozilla/5.0 (Macintosh; Intel Mac OS X 10_14_3) AppleWebKit/605.1.15 (KHTML, like Gecko) Version/12.0.3 Safari/605.1.15')\n",
    "    options.add_argument('referer=https://www.g2a.com/en/category/games-c189?sort=newest-first&drm%5B5%5D=1')\n",
    "    options.add_argument('authority=www.g2a.com')\n",
    "    options.add_argument('method=GET')\n",
    "    options.add_argument('path=/en/')\n",
    "    options.add_argument('scheme=https')\n",
    "    options.add_argument('accept=text/html,application/xhtml+xml,application/xml;q=0.9,image/webp,image/apng,*/*;q=0.8,application/signed-exchange;v=b3')\n",
    "    options.add_argument('accept-encoding=gzip, deflate, br')\n",
    "    options.add_argument('accept-language=en-GB,en-US;q=0.9,en;q=0.8')\n",
    "    driver=webdriver.Chrome(options=options)\n",
    "    driver.implicitly_wait(10)\n",
    "    \n",
    "    seller_rs=[]\n",
    "    sellers=[]\n",
    "    for game in tqdm_notebook(game_urls):\n",
    "        driver.get(game)\n",
    "            \n",
    "\n",
    "        #ignore cookies prompt\n",
    "        #maybe_later_click(driver=driver)\n",
    "        try:\n",
    "            tick_loc1='/html/body/div[57]/div/div/div/div/div[2]/div[2]/div[1]/label/i'\n",
    "            tick_loc2='/html/body/div[58]/div/div/div/div/div[2]/div[2]/div[1]/label/i'\n",
    "            confirm_loc1='/html/body/div[57]/div/div/div/div/div[3]/button[1]'\n",
    "            confirm_loc2='/html/body/div[58]/div/div/div/div/div[3]/button[1]'\n",
    "            try:\n",
    "                tick=driver.find_element_by_xpath(tick_loc1)\n",
    "                confirm=driver.find_element_by_xpath(confirm_loc1)\n",
    "            except:\n",
    "                tick=driver.find_element_by_xpath(tick_loc2)\n",
    "                confirm=driver.find_element_by_xpath(confirm_loc2)\n",
    "\n",
    "            tick.click()\n",
    "            confirm.click()\n",
    "        except:\n",
    "            print('cookie not prompted')\n",
    "    \n",
    "        #check that seller is unique\n",
    "        time.sleep(1)\n",
    "        page_loaded=False\n",
    "        #page may not load first time so repeat untill loaded\n",
    "        while page_loaded==False:\n",
    "            try:\n",
    "                game_soup=BeautifulSoup(driver.page_source)\n",
    "                seller = game_soup.find('span', class_='seller-info__user').text\n",
    "                page_loaded=True\n",
    "            except:\n",
    "                continue\n",
    "        \n",
    "        \n",
    "        if seller in sellers:\n",
    "            skip = True\n",
    "        else:\n",
    "            skip = False\n",
    "            sellers.append(seller)\n",
    "\n",
    "        #get seller history page soup\n",
    "        entry_path='//*[@id=\"app\"]/div/div[2]/div/article/header/div/div[3]/div[1]/div[1]/button/span[1]'\n",
    "        seller_button=driver.find_element_by_xpath(entry_path)\n",
    "        seller_button.click()\n",
    "\n",
    "\n",
    "        load_more(driver, times=int(length/10))\n",
    "                \n",
    "            \n",
    "        if skip == False:\n",
    "            seller_rs.append(BeautifulSoup(driver.page_source))\n",
    "        else:\n",
    "            continue\n",
    "    return seller_rs\n",
    "\n",
    "def load_more(driver, times):\n",
    "    button_location1='/html/body/div[5]/div/div/div/div/div[3]/div/div/div/div/button'\n",
    "    button_location2='/html/body/div[6]/div/div/div/div/div[3]/div/div/div/div/button'\n",
    "    for t in range(times):\n",
    "        try:\n",
    "            button=driver.find_element_by_xpath(button_location1)\n",
    "        except:\n",
    "            try:\n",
    "                button=driver.find_element_by_xpath(button_location2)\n",
    "            except:\n",
    "                #seller page hasnt loaded\n",
    "                try:\n",
    "                    try_again_location='/html/body/div[5]/div/div/div/div/div[3]/div/div/div[1]/div/p/span[2]/span/button'\n",
    "                    try_again=driver.find_element_by_xpath(try_again_location)\n",
    "                    try_again.click()\n",
    "                    \n",
    "                    try:\n",
    "                        button=driver.find_element_by_xpath(button_location1)\n",
    "                    except:\n",
    "                        try:\n",
    "                            button=driver.find_element_by_xpath(button_location2)\n",
    "                        except:\n",
    "                            print('No more reviews')\n",
    "                            return None\n",
    "                except:\n",
    "                    print('No more reviews')\n",
    "                    return None\n",
    "        \n",
    "        \n",
    "        click=False\n",
    "        while click==False:\n",
    "            time.sleep(0.5)\n",
    "            try:\n",
    "                button.click()\n",
    "                click=True\n",
    "            except:\n",
    "                continue\n",
    "            \n",
    "        \n",
    "        \n",
    "def data_collection_from_game(seller_soup):\n",
    "    '''\n",
    "    once the html is generated it can then be scraped\n",
    "    this collection iterates over comments collecting\n",
    "    the rating, date, desc and comment per buyer aswell as\n",
    "    seller name and overall rating per seller. creating a single\n",
    "    dictionary with keys of equal length.\n",
    "    '''\n",
    "    seller=seller_soup.find('div', class_='user-name').find('strong').text\n",
    "    ovrall_rating=seller_soup.find('div', class_='rating-data').text\n",
    "    \n",
    "    comments=seller_soup.find('div', class_='comments').findAll('li')\n",
    "    \n",
    "    game_data={\n",
    "    'seller':[],\n",
    "    'ovrall_rating':[],\n",
    "    'rating':[],\n",
    "    'date':[],\n",
    "    'desc':[],\n",
    "    'comment':[]\n",
    "    }\n",
    "    \n",
    "    for comment in comments:\n",
    "        game_data['seller'].append(seller)\n",
    "        game_data['ovrall_rating'].append(ovrall_rating)\n",
    "        \n",
    "        try:\n",
    "            game_data['rating'].append(comment.find('use')['xlink:href'])\n",
    "        except:\n",
    "            game_data['rating'].append(np.nan)\n",
    "        try:\n",
    "            game_data['date'].append(comment.find('span', class_='date').text)\n",
    "        except:\n",
    "            game_data['date'].append(np.nan)\n",
    "        try:\n",
    "            game_data['desc'].append(comment.find('p', class_='comments__item-type').text)\n",
    "        except:\n",
    "            game_data['desc'].append(np.nan)\n",
    "        try:\n",
    "            game_data['comment'].append(comment.find('div', class_='comments__item-content').text)\n",
    "        except:\n",
    "            game_data['comment'].append(np.nan)\n",
    "    \n",
    "    return game_data\n",
    "\n",
    "def seller_spider(game_urls, revs_per_seller):\n",
    "    seller_rs=get_seller_history(game_urls, length=revs_per_seller)\n",
    "    all_data={\n",
    "    'seller':[],\n",
    "    'ovrall_rating':[],\n",
    "    'rating':[],\n",
    "    'date':[],\n",
    "    'desc':[],\n",
    "    'comment':[]\n",
    "    }\n",
    "    for seller_r in tqdm_notebook(seller_rs):\n",
    "        game_data=data_collection_from_game(seller_r)\n",
    "        for key in all_data.keys():\n",
    "            all_data[key].extend(game_data[key])\n",
    "        tmp_data=pd.DataFrame(all_data)\n",
    "        tmp_data.to_csv('backup.csv')\n",
    "    \n",
    "    return pd.DataFrame(all_data)"
   ]
  },
  {
   "cell_type": "code",
   "execution_count": 10,
   "metadata": {
    "scrolled": true
   },
   "outputs": [
    {
     "data": {
      "application/vnd.jupyter.widget-view+json": {
       "model_id": "376efc5c81db48d1a4eb628571ae6dd6",
       "version_major": 2,
       "version_minor": 0
      },
      "text/plain": [
       "HBox(children=(IntProgress(value=0, max=18), HTML(value='')))"
      ]
     },
     "metadata": {},
     "output_type": "display_data"
    },
    {
     "name": "stdout",
     "output_type": "stream",
     "text": [
      "cookie not prompted\n",
      "cookie not prompted\n",
      "No more reviews\n",
      "cookie not prompted\n",
      "cookie not prompted\n",
      "cookie not prompted\n",
      "cookie not prompted\n",
      "cookie not prompted\n",
      "cookie not prompted\n",
      "cookie not prompted\n",
      "cookie not prompted\n",
      "cookie not prompted\n",
      "cookie not prompted\n",
      "cookie not prompted\n",
      "cookie not prompted\n",
      "cookie not prompted\n",
      "cookie not prompted\n",
      "cookie not prompted\n"
     ]
    },
    {
     "data": {
      "application/vnd.jupyter.widget-view+json": {
       "model_id": "e3509eac1566452192511c9035bb14e5",
       "version_major": 2,
       "version_minor": 0
      },
      "text/plain": [
       "HBox(children=(IntProgress(value=0, max=12), HTML(value='')))"
      ]
     },
     "metadata": {},
     "output_type": "display_data"
    }
   ],
   "source": [
    "data = seller_spider(game_urls, revs_per_seller=1000)"
   ]
  },
  {
   "cell_type": "code",
   "execution_count": 11,
   "metadata": {},
   "outputs": [],
   "source": [
    "data.to_csv('seller_data.csv')"
   ]
  }
 ],
 "metadata": {
  "kernelspec": {
   "display_name": "Python 3",
   "language": "python",
   "name": "python3"
  },
  "language_info": {
   "codemirror_mode": {
    "name": "ipython",
    "version": 3
   },
   "file_extension": ".py",
   "mimetype": "text/x-python",
   "name": "python",
   "nbconvert_exporter": "python",
   "pygments_lexer": "ipython3",
   "version": "3.7.3"
  }
 },
 "nbformat": 4,
 "nbformat_minor": 2
}
